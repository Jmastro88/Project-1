{
 "cells": [
  {
   "cell_type": "code",
   "execution_count": 5,
   "metadata": {
    "scrolled": true
   },
   "outputs": [],
   "source": [
    "#dependencies\n",
    "import pandas as pd\n",
    "\n",
    "#file path\n",
    "price_data = \"Resources/Price_ national.csv\"\n",
    "consumption_data = \"Resources/Consumption_National.csv\"\n",
    "\n",
    "#read and store in data frame\n",
    "price_dataDF = pd.read_csv(price_data)\n",
    "consumption_dataDF = pd.read_csv(consumption_data)\n",
    "#format data frame \n",
    "#set index as MSN for price\n",
    "price_dataDF = price_dataDF.set_index(\"MSN\")\n",
    "#set index as MSN for consumption\n",
    "consumption_dataDF = consumption_dataDF.set_index(\"MSN\")\n",
    "#get data for only the by barrels for transportation\n",
    "price_dataDF = price_dataDF[[\"2007\",\"2008\",\"2009\",\"2010\",\"2011\",\"2012\",\"2013\",\"2014\",\"2015\",\"2016\",\"2017\"]]\n",
    "consumption_dataDF = consumption_dataDF[[\"2007\",\"2008\",\"2009\",\"2010\",\"2011\",\"2012\",\"2013\",\"2014\",\"2015\",\"2016\",\"2017\"]]\n",
    "#concatenate dataframes\n",
    "price_consDF = pd.concat([price_dataDF,consumption_dataDF])\n",
    "#narrow down between PAACD and PAACB\n",
    "price_consDF = price_consDF.loc[\"PAACD\":\"PAACB\"]\n",
    "price_consDF1 = price_consDF.loc[\"PAACD\":\"PAACV\"]\n",
    "price_consDF2 = price_consDF.loc[\"P1TXP\":\"PAACB\"]\n",
    "#new data frame containing only row near values needed\n",
    "price_consDF3 = pd.concat([price_consDF1,price_consDF2])\n",
    "#drop rows not needed\n",
    "price_consDF = price_consDF3.drop([\"PAACV\",\"P1TXP\"])\n",
    "#write to CSV\n",
    "price_consDF.to_csv(\"Resources/price_cons.csv\", index = True, header = True)"
   ]
  },
  {
   "cell_type": "code",
   "execution_count": 6,
   "metadata": {},
   "outputs": [
    {
     "data": {
      "text/html": [
       "<div>\n",
       "<style scoped>\n",
       "    .dataframe tbody tr th:only-of-type {\n",
       "        vertical-align: middle;\n",
       "    }\n",
       "\n",
       "    .dataframe tbody tr th {\n",
       "        vertical-align: top;\n",
       "    }\n",
       "\n",
       "    .dataframe thead th {\n",
       "        text-align: right;\n",
       "    }\n",
       "</style>\n",
       "<table border=\"1\" class=\"dataframe\">\n",
       "  <thead>\n",
       "    <tr style=\"text-align: right;\">\n",
       "      <th></th>\n",
       "      <th>MSN</th>\n",
       "      <th>2007</th>\n",
       "      <th>2008</th>\n",
       "      <th>2009</th>\n",
       "      <th>2010</th>\n",
       "      <th>2011</th>\n",
       "      <th>2012</th>\n",
       "      <th>2013</th>\n",
       "      <th>2014</th>\n",
       "      <th>2015</th>\n",
       "      <th>2016</th>\n",
       "      <th>2017</th>\n",
       "    </tr>\n",
       "  </thead>\n",
       "  <tbody>\n",
       "    <tr>\n",
       "      <td>0</td>\n",
       "      <td>PAACD</td>\n",
       "      <td>20.83</td>\n",
       "      <td>25.62</td>\n",
       "      <td>17.9</td>\n",
       "      <td>21.54</td>\n",
       "      <td>27.55</td>\n",
       "      <td>28.41</td>\n",
       "      <td>27.74</td>\n",
       "      <td>26.73</td>\n",
       "      <td>19.16</td>\n",
       "      <td>16.7</td>\n",
       "      <td>18.92</td>\n",
       "    </tr>\n",
       "    <tr>\n",
       "      <td>1</td>\n",
       "      <td>PAACB</td>\n",
       "      <td>28034208.00</td>\n",
       "      <td>26630325.00</td>\n",
       "      <td>25814788.0</td>\n",
       "      <td>26190308.00</td>\n",
       "      <td>25785221.00</td>\n",
       "      <td>25272366.00</td>\n",
       "      <td>25650321.00</td>\n",
       "      <td>26034264.00</td>\n",
       "      <td>26420723.00</td>\n",
       "      <td>26958202.0</td>\n",
       "      <td>27144978.00</td>\n",
       "    </tr>\n",
       "  </tbody>\n",
       "</table>\n",
       "</div>"
      ],
      "text/plain": [
       "     MSN         2007         2008        2009         2010         2011  \\\n",
       "0  PAACD        20.83        25.62        17.9        21.54        27.55   \n",
       "1  PAACB  28034208.00  26630325.00  25814788.0  26190308.00  25785221.00   \n",
       "\n",
       "          2012         2013         2014         2015        2016         2017  \n",
       "0        28.41        27.74        26.73        19.16        16.7        18.92  \n",
       "1  25272366.00  25650321.00  26034264.00  26420723.00  26958202.0  27144978.00  "
      ]
     },
     "execution_count": 6,
     "metadata": {},
     "output_type": "execute_result"
    }
   ],
   "source": [
    "#test to make sure worked\n",
    "testPath = \"Resources/price_cons.csv\"\n",
    "testDF = pd.read_csv(testPath)\n",
    "testDF"
   ]
  },
  {
   "cell_type": "code",
   "execution_count": null,
   "metadata": {},
   "outputs": [],
   "source": []
  }
 ],
 "metadata": {
  "kernelspec": {
   "display_name": "Python 3",
   "language": "python",
   "name": "python3"
  },
  "language_info": {
   "codemirror_mode": {
    "name": "ipython",
    "version": 3
   },
   "file_extension": ".py",
   "mimetype": "text/x-python",
   "name": "python",
   "nbconvert_exporter": "python",
   "pygments_lexer": "ipython3",
   "version": "3.7.4"
  }
 },
 "nbformat": 4,
 "nbformat_minor": 2
}
