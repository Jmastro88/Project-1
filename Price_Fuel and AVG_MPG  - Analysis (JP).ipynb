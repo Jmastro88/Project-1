{
 "cells": [
  {
   "cell_type": "code",
   "execution_count": 42,
   "metadata": {},
   "outputs": [],
   "source": [
    "import pandas as pd\n",
    "import numpy as np\n",
    "import matplotlib.pyplot as plt\n",
    "import os\n",
    "from scipy.stats import linregress"
   ]
  },
  {
   "cell_type": "code",
   "execution_count": 53,
   "metadata": {
    "scrolled": true
   },
   "outputs": [
    {
     "data": {
      "text/html": [
       "<div>\n",
       "<style scoped>\n",
       "    .dataframe tbody tr th:only-of-type {\n",
       "        vertical-align: middle;\n",
       "    }\n",
       "\n",
       "    .dataframe tbody tr th {\n",
       "        vertical-align: top;\n",
       "    }\n",
       "\n",
       "    .dataframe thead th {\n",
       "        text-align: right;\n",
       "    }\n",
       "</style>\n",
       "<table border=\"1\" class=\"dataframe\">\n",
       "  <thead>\n",
       "    <tr style=\"text-align: right;\">\n",
       "      <th></th>\n",
       "      <th>Unnamed: 0</th>\n",
       "      <th>GDP</th>\n",
       "      <th>Total Miles</th>\n",
       "      <th>MPG</th>\n",
       "      <th>PAACD</th>\n",
       "      <th>PAACB</th>\n",
       "      <th>Year</th>\n",
       "    </tr>\n",
       "  </thead>\n",
       "  <tbody>\n",
       "    <tr>\n",
       "      <th>0</th>\n",
       "      <td>0</td>\n",
       "      <td>15626.029</td>\n",
       "      <td>3031124</td>\n",
       "      <td>21.3</td>\n",
       "      <td>20.83</td>\n",
       "      <td>28034208.0</td>\n",
       "      <td>2007</td>\n",
       "    </tr>\n",
       "    <tr>\n",
       "      <th>1</th>\n",
       "      <td>1</td>\n",
       "      <td>15604.687</td>\n",
       "      <td>2976528</td>\n",
       "      <td>21.8</td>\n",
       "      <td>25.62</td>\n",
       "      <td>26630325.0</td>\n",
       "      <td>2008</td>\n",
       "    </tr>\n",
       "    <tr>\n",
       "      <th>2</th>\n",
       "      <td>2</td>\n",
       "      <td>15208.834</td>\n",
       "      <td>2956764</td>\n",
       "      <td>21.7</td>\n",
       "      <td>17.90</td>\n",
       "      <td>25814788.0</td>\n",
       "      <td>2009</td>\n",
       "    </tr>\n",
       "    <tr>\n",
       "      <th>3</th>\n",
       "      <td>3</td>\n",
       "      <td>15598.753</td>\n",
       "      <td>2967266</td>\n",
       "      <td>21.5</td>\n",
       "      <td>21.54</td>\n",
       "      <td>26190308.0</td>\n",
       "      <td>2010</td>\n",
       "    </tr>\n",
       "    <tr>\n",
       "      <th>4</th>\n",
       "      <td>4</td>\n",
       "      <td>15840.664</td>\n",
       "      <td>2950402</td>\n",
       "      <td>21.4</td>\n",
       "      <td>27.55</td>\n",
       "      <td>25785221.0</td>\n",
       "      <td>2011</td>\n",
       "    </tr>\n",
       "    <tr>\n",
       "      <th>5</th>\n",
       "      <td>5</td>\n",
       "      <td>16197.007</td>\n",
       "      <td>2969433</td>\n",
       "      <td>21.5</td>\n",
       "      <td>28.41</td>\n",
       "      <td>25272366.0</td>\n",
       "      <td>2012</td>\n",
       "    </tr>\n",
       "    <tr>\n",
       "      <th>6</th>\n",
       "      <td>6</td>\n",
       "      <td>16495.369</td>\n",
       "      <td>2988280</td>\n",
       "      <td>21.6</td>\n",
       "      <td>27.74</td>\n",
       "      <td>25650321.0</td>\n",
       "      <td>2013</td>\n",
       "    </tr>\n",
       "    <tr>\n",
       "      <th>7</th>\n",
       "      <td>7</td>\n",
       "      <td>16912.038</td>\n",
       "      <td>3025656</td>\n",
       "      <td>21.4</td>\n",
       "      <td>26.73</td>\n",
       "      <td>26034264.0</td>\n",
       "      <td>2014</td>\n",
       "    </tr>\n",
       "    <tr>\n",
       "      <th>8</th>\n",
       "      <td>8</td>\n",
       "      <td>17403.843</td>\n",
       "      <td>3095373</td>\n",
       "      <td>22.0</td>\n",
       "      <td>19.16</td>\n",
       "      <td>26420723.0</td>\n",
       "      <td>2015</td>\n",
       "    </tr>\n",
       "    <tr>\n",
       "      <th>9</th>\n",
       "      <td>9</td>\n",
       "      <td>17688.890</td>\n",
       "      <td>3174408</td>\n",
       "      <td>22.0</td>\n",
       "      <td>16.70</td>\n",
       "      <td>26958202.0</td>\n",
       "      <td>2016</td>\n",
       "    </tr>\n",
       "    <tr>\n",
       "      <th>10</th>\n",
       "      <td>10</td>\n",
       "      <td>18108.082</td>\n",
       "      <td>3212347</td>\n",
       "      <td>22.3</td>\n",
       "      <td>18.92</td>\n",
       "      <td>27144978.0</td>\n",
       "      <td>2017</td>\n",
       "    </tr>\n",
       "  </tbody>\n",
       "</table>\n",
       "</div>"
      ],
      "text/plain": [
       "    Unnamed: 0        GDP  Total Miles   MPG  PAACD       PAACB  Year\n",
       "0            0  15626.029      3031124  21.3  20.83  28034208.0  2007\n",
       "1            1  15604.687      2976528  21.8  25.62  26630325.0  2008\n",
       "2            2  15208.834      2956764  21.7  17.90  25814788.0  2009\n",
       "3            3  15598.753      2967266  21.5  21.54  26190308.0  2010\n",
       "4            4  15840.664      2950402  21.4  27.55  25785221.0  2011\n",
       "5            5  16197.007      2969433  21.5  28.41  25272366.0  2012\n",
       "6            6  16495.369      2988280  21.6  27.74  25650321.0  2013\n",
       "7            7  16912.038      3025656  21.4  26.73  26034264.0  2014\n",
       "8            8  17403.843      3095373  22.0  19.16  26420723.0  2015\n",
       "9            9  17688.890      3174408  22.0  16.70  26958202.0  2016\n",
       "10          10  18108.082      3212347  22.3  18.92  27144978.0  2017"
      ]
     },
     "execution_count": 53,
     "metadata": {},
     "output_type": "execute_result"
    }
   ],
   "source": [
    "project_df=pd.read_csv(\"./Resources/Final_Data_Clean_Summary\")\n",
    "project_df"
   ]
  },
  {
   "cell_type": "code",
   "execution_count": 54,
   "metadata": {},
   "outputs": [
    {
     "data": {
      "text/html": [
       "<div>\n",
       "<style scoped>\n",
       "    .dataframe tbody tr th:only-of-type {\n",
       "        vertical-align: middle;\n",
       "    }\n",
       "\n",
       "    .dataframe tbody tr th {\n",
       "        vertical-align: top;\n",
       "    }\n",
       "\n",
       "    .dataframe thead th {\n",
       "        text-align: right;\n",
       "    }\n",
       "</style>\n",
       "<table border=\"1\" class=\"dataframe\">\n",
       "  <thead>\n",
       "    <tr style=\"text-align: right;\">\n",
       "      <th></th>\n",
       "      <th>GDP</th>\n",
       "      <th>Total Miles</th>\n",
       "      <th>MPG</th>\n",
       "      <th>PAACD</th>\n",
       "      <th>PAACB</th>\n",
       "      <th>Year</th>\n",
       "    </tr>\n",
       "  </thead>\n",
       "  <tbody>\n",
       "    <tr>\n",
       "      <th>0</th>\n",
       "      <td>15626.029</td>\n",
       "      <td>3031124</td>\n",
       "      <td>21.3</td>\n",
       "      <td>20.83</td>\n",
       "      <td>28034208.0</td>\n",
       "      <td>2007</td>\n",
       "    </tr>\n",
       "    <tr>\n",
       "      <th>1</th>\n",
       "      <td>15604.687</td>\n",
       "      <td>2976528</td>\n",
       "      <td>21.8</td>\n",
       "      <td>25.62</td>\n",
       "      <td>26630325.0</td>\n",
       "      <td>2008</td>\n",
       "    </tr>\n",
       "    <tr>\n",
       "      <th>2</th>\n",
       "      <td>15208.834</td>\n",
       "      <td>2956764</td>\n",
       "      <td>21.7</td>\n",
       "      <td>17.90</td>\n",
       "      <td>25814788.0</td>\n",
       "      <td>2009</td>\n",
       "    </tr>\n",
       "    <tr>\n",
       "      <th>3</th>\n",
       "      <td>15598.753</td>\n",
       "      <td>2967266</td>\n",
       "      <td>21.5</td>\n",
       "      <td>21.54</td>\n",
       "      <td>26190308.0</td>\n",
       "      <td>2010</td>\n",
       "    </tr>\n",
       "    <tr>\n",
       "      <th>4</th>\n",
       "      <td>15840.664</td>\n",
       "      <td>2950402</td>\n",
       "      <td>21.4</td>\n",
       "      <td>27.55</td>\n",
       "      <td>25785221.0</td>\n",
       "      <td>2011</td>\n",
       "    </tr>\n",
       "    <tr>\n",
       "      <th>5</th>\n",
       "      <td>16197.007</td>\n",
       "      <td>2969433</td>\n",
       "      <td>21.5</td>\n",
       "      <td>28.41</td>\n",
       "      <td>25272366.0</td>\n",
       "      <td>2012</td>\n",
       "    </tr>\n",
       "    <tr>\n",
       "      <th>6</th>\n",
       "      <td>16495.369</td>\n",
       "      <td>2988280</td>\n",
       "      <td>21.6</td>\n",
       "      <td>27.74</td>\n",
       "      <td>25650321.0</td>\n",
       "      <td>2013</td>\n",
       "    </tr>\n",
       "    <tr>\n",
       "      <th>7</th>\n",
       "      <td>16912.038</td>\n",
       "      <td>3025656</td>\n",
       "      <td>21.4</td>\n",
       "      <td>26.73</td>\n",
       "      <td>26034264.0</td>\n",
       "      <td>2014</td>\n",
       "    </tr>\n",
       "    <tr>\n",
       "      <th>8</th>\n",
       "      <td>17403.843</td>\n",
       "      <td>3095373</td>\n",
       "      <td>22.0</td>\n",
       "      <td>19.16</td>\n",
       "      <td>26420723.0</td>\n",
       "      <td>2015</td>\n",
       "    </tr>\n",
       "    <tr>\n",
       "      <th>9</th>\n",
       "      <td>17688.890</td>\n",
       "      <td>3174408</td>\n",
       "      <td>22.0</td>\n",
       "      <td>16.70</td>\n",
       "      <td>26958202.0</td>\n",
       "      <td>2016</td>\n",
       "    </tr>\n",
       "    <tr>\n",
       "      <th>10</th>\n",
       "      <td>18108.082</td>\n",
       "      <td>3212347</td>\n",
       "      <td>22.3</td>\n",
       "      <td>18.92</td>\n",
       "      <td>27144978.0</td>\n",
       "      <td>2017</td>\n",
       "    </tr>\n",
       "  </tbody>\n",
       "</table>\n",
       "</div>"
      ],
      "text/plain": [
       "          GDP  Total Miles   MPG  PAACD       PAACB  Year\n",
       "0   15626.029      3031124  21.3  20.83  28034208.0  2007\n",
       "1   15604.687      2976528  21.8  25.62  26630325.0  2008\n",
       "2   15208.834      2956764  21.7  17.90  25814788.0  2009\n",
       "3   15598.753      2967266  21.5  21.54  26190308.0  2010\n",
       "4   15840.664      2950402  21.4  27.55  25785221.0  2011\n",
       "5   16197.007      2969433  21.5  28.41  25272366.0  2012\n",
       "6   16495.369      2988280  21.6  27.74  25650321.0  2013\n",
       "7   16912.038      3025656  21.4  26.73  26034264.0  2014\n",
       "8   17403.843      3095373  22.0  19.16  26420723.0  2015\n",
       "9   17688.890      3174408  22.0  16.70  26958202.0  2016\n",
       "10  18108.082      3212347  22.3  18.92  27144978.0  2017"
      ]
     },
     "execution_count": 54,
     "metadata": {},
     "output_type": "execute_result"
    }
   ],
   "source": [
    "clean_df=project_df.drop('Unnamed: 0', axis=1)\n",
    "clean_df"
   ]
  },
  {
   "cell_type": "code",
   "execution_count": 55,
   "metadata": {},
   "outputs": [
    {
     "data": {
      "text/plain": [
       "(array([1., 2., 1., 1., 1., 0., 0., 1., 1., 3.]),\n",
       " array([16.7  , 17.871, 19.042, 20.213, 21.384, 22.555, 23.726, 24.897,\n",
       "        26.068, 27.239, 28.41 ]),\n",
       " <a list of 10 Patch objects>)"
      ]
     },
     "execution_count": 55,
     "metadata": {},
     "output_type": "execute_result"
    },
    {
     "data": {
      "image/png": "[encoded data removed]",
      "text/plain": [
       "<Figure size 432x288 with 1 Axes>"
      ]
     },
     "metadata": {
      "needs_background": "light"
     },
     "output_type": "display_data"
    }
   ],
   "source": [
    "price=clean_df[\"PAACD\"]\n",
    "\n",
    "plt.hist(price)"
   ]
  },
  {
   "cell_type": "code",
   "execution_count": 56,
   "metadata": {},
   "outputs": [
    {
     "data": {
      "text/plain": [
       "(array([3., 0., 2., 1., 1., 1., 0., 2., 0., 1.]),\n",
       " array([21.3, 21.4, 21.5, 21.6, 21.7, 21.8, 21.9, 22. , 22.1, 22.2, 22.3]),\n",
       " <a list of 10 Patch objects>)"
      ]
     },
     "execution_count": 56,
     "metadata": {},
     "output_type": "execute_result"
    },
    {
     "data": {
      "image/png": "[encoded data removed]",
      "text/plain": [
       "<Figure size 432x288 with 1 Axes>"
      ]
     },
     "metadata": {
      "needs_background": "light"
     },
     "output_type": "display_data"
    }
   ],
   "source": [
    "mpg=clean_df[\"MPG\"]\n",
    "\n",
    "plt.hist(mpg)"
   ]
  },
  {
   "cell_type": "code",
   "execution_count": 57,
   "metadata": {},
   "outputs": [
    {
     "data": {
      "image/png": "[encoded data removed]",
      "text/plain": [
       "<Figure size 432x288 with 1 Axes>"
      ]
     },
     "metadata": {
      "needs_background": "light"
     },
     "output_type": "display_data"
    }
   ],
   "source": [
    "years=clean_df[\"Year\"]\n",
    "\n",
    "plt.plot(years, price, color=\"red\", label=\"Price\")\n",
    "\n",
    "plt.plot(years, mpg, color=\"green\", label=\"Avg MPG\")\n",
    "\n",
    "plt.legend(loc=\"best\")\n",
    "\n",
    "plt.title(\"Price Vs MPG\")\n",
    "plt.xlabel(\"Years\")\n",
    "plt.ylabel(\"Avg MPG\")\n",
    "\n",
    "plt.show()"
   ]
  },
  {
   "cell_type": "code",
   "execution_count": 58,
   "metadata": {},
   "outputs": [
    {
     "data": {
      "text/plain": [
       "<function matplotlib.pyplot.show(*args, **kw)>"
      ]
     },
     "execution_count": 58,
     "metadata": {},
     "output_type": "execute_result"
    },
    {
     "data": {
      "image/png": "[encoded data removed]",
      "text/plain": [
       "<Figure size 432x288 with 1 Axes>"
      ]
     },
     "metadata": {
      "needs_background": "light"
     },
     "output_type": "display_data"
    }
   ],
   "source": [
    "plt.scatter(price,mpg)\n",
    "plt.xlabel('Fuel Price')\n",
    "plt.ylabel('Average MPG')\n",
    "\n",
    "plt.show"
   ]
  },
  {
   "cell_type": "code",
   "execution_count": 59,
   "metadata": {
    "scrolled": true
   },
   "outputs": [
    {
     "data": {
      "image/png": "[encoded data removed]",
      "text/plain": [
       "<Figure size 432x288 with 1 Axes>"
      ]
     },
     "metadata": {
      "needs_background": "light"
     },
     "output_type": "display_data"
    }
   ],
   "source": [
    "(slope, intercept, rvalue, pvalue, stderr)= linregress(price,mpg)\n",
    "regress_values= price * slope + intercept\n",
    "line_eq= f\"y = {slope} x + {intercept}\"\n",
    "plt.scatter(price,mpg)\n",
    "plt.plot(price,mpg,\"r-\")\n",
    "plt.annotate(line_eq,(6,10),fontsize=15,color=\"red\")\n",
    "plt.show()"
   ]
  },
  {
   "cell_type": "code",
   "execution_count": null,
   "metadata": {},
   "outputs": [],
   "source": []
  }
 ],
 "metadata": {
  "kernelspec": {
   "display_name": "Python 3",
   "language": "python",
   "name": "python3"
  },
  "language_info": {
   "codemirror_mode": {
    "name": "ipython",
    "version": 3
   },
   "file_extension": ".py",
   "mimetype": "text/x-python",
   "name": "python",
   "nbconvert_exporter": "python",
   "pygments_lexer": "ipython3",
   "version": "3.7.4"
  }
 },
 "nbformat": 4,
 "nbformat_minor": 2
}
