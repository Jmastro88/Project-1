{
 "cells": [
  {
   "cell_type": "code",
   "execution_count": 1,
   "metadata": {},
   "outputs": [],
   "source": [
    "#Dependencies\n",
    "import pandas as pd\n",
    "import numpy as np\n",
    "import matplotlib.pyplot as plt\n",
    "import os\n",
    "import seaborn as sns\n",
    "import scipy.stats as st"
   ]
  },
  {
   "cell_type": "code",
   "execution_count": 2,
   "metadata": {
    "scrolled": true
   },
   "outputs": [
    {
     "data": {
      "text/html": [
       "<div>\n",
       "<style scoped>\n",
       "    .dataframe tbody tr th:only-of-type {\n",
       "        vertical-align: middle;\n",
       "    }\n",
       "\n",
       "    .dataframe tbody tr th {\n",
       "        vertical-align: top;\n",
       "    }\n",
       "\n",
       "    .dataframe thead th {\n",
       "        text-align: right;\n",
       "    }\n",
       "</style>\n",
       "<table border=\"1\" class=\"dataframe\">\n",
       "  <thead>\n",
       "    <tr style=\"text-align: right;\">\n",
       "      <th></th>\n",
       "      <th>2007</th>\n",
       "      <th>2008</th>\n",
       "      <th>2009</th>\n",
       "      <th>2010</th>\n",
       "      <th>2011</th>\n",
       "      <th>2012</th>\n",
       "      <th>2013</th>\n",
       "      <th>2014</th>\n",
       "      <th>2015</th>\n",
       "      <th>2016</th>\n",
       "      <th>2017</th>\n",
       "    </tr>\n",
       "    <tr>\n",
       "      <th>Factors</th>\n",
       "      <th></th>\n",
       "      <th></th>\n",
       "      <th></th>\n",
       "      <th></th>\n",
       "      <th></th>\n",
       "      <th></th>\n",
       "      <th></th>\n",
       "      <th></th>\n",
       "      <th></th>\n",
       "      <th></th>\n",
       "      <th></th>\n",
       "    </tr>\n",
       "  </thead>\n",
       "  <tbody>\n",
       "    <tr>\n",
       "      <th>GDPCA</th>\n",
       "      <td>15626.028999999999</td>\n",
       "      <td>15604.687</td>\n",
       "      <td>15208.833999999999</td>\n",
       "      <td>15598.753</td>\n",
       "      <td>15840.663999999999</td>\n",
       "      <td>16197.007</td>\n",
       "      <td>16495.369</td>\n",
       "      <td>16912.038</td>\n",
       "      <td>17403.843</td>\n",
       "      <td>17688.89</td>\n",
       "      <td>18108.082</td>\n",
       "    </tr>\n",
       "    <tr>\n",
       "      <th>Highway, total</th>\n",
       "      <td>3,031,124</td>\n",
       "      <td>2,976,528</td>\n",
       "      <td>2,956,764</td>\n",
       "      <td>2,967,266</td>\n",
       "      <td>2,950,402</td>\n",
       "      <td>2,969,433</td>\n",
       "      <td>2,988,280</td>\n",
       "      <td>3,025,656</td>\n",
       "      <td>3,095,373</td>\n",
       "      <td>3,174,408</td>\n",
       "      <td>3,212,347</td>\n",
       "    </tr>\n",
       "    <tr>\n",
       "      <th>Average U.S. light duty vehicle fuel efficiency (mpg) (calendar year)</th>\n",
       "      <td>21.3</td>\n",
       "      <td>21.8</td>\n",
       "      <td>21.7</td>\n",
       "      <td>21.5</td>\n",
       "      <td>21.4</td>\n",
       "      <td>21.5</td>\n",
       "      <td>21.6</td>\n",
       "      <td>21.4</td>\n",
       "      <td>22.0</td>\n",
       "      <td>22.0</td>\n",
       "      <td>22.3</td>\n",
       "    </tr>\n",
       "    <tr>\n",
       "      <th>PAACD</th>\n",
       "      <td>20.83</td>\n",
       "      <td>25.62</td>\n",
       "      <td>17.9</td>\n",
       "      <td>21.54</td>\n",
       "      <td>27.55</td>\n",
       "      <td>28.41</td>\n",
       "      <td>27.74</td>\n",
       "      <td>26.73</td>\n",
       "      <td>19.16</td>\n",
       "      <td>16.7</td>\n",
       "      <td>18.92</td>\n",
       "    </tr>\n",
       "    <tr>\n",
       "      <th>PAACB</th>\n",
       "      <td>28034208.0</td>\n",
       "      <td>26630325.0</td>\n",
       "      <td>25814788.0</td>\n",
       "      <td>26190308.0</td>\n",
       "      <td>25785221.0</td>\n",
       "      <td>25272366.0</td>\n",
       "      <td>25650321.0</td>\n",
       "      <td>26034264.0</td>\n",
       "      <td>26420723.0</td>\n",
       "      <td>26958202.0</td>\n",
       "      <td>27144978.0</td>\n",
       "    </tr>\n",
       "  </tbody>\n",
       "</table>\n",
       "</div>"
      ],
      "text/plain": [
       "                                                                  2007  \\\n",
       "Factors                                                                  \n",
       "GDPCA                                               15626.028999999999   \n",
       "Highway, total                                               3,031,124   \n",
       "Average U.S. light duty vehicle fuel efficiency...                21.3   \n",
       "PAACD                                                            20.83   \n",
       "PAACB                                                       28034208.0   \n",
       "\n",
       "                                                          2008  \\\n",
       "Factors                                                          \n",
       "GDPCA                                                15604.687   \n",
       "Highway, total                                       2,976,528   \n",
       "Average U.S. light duty vehicle fuel efficiency...        21.8   \n",
       "PAACD                                                    25.62   \n",
       "PAACB                                               26630325.0   \n",
       "\n",
       "                                                                  2009  \\\n",
       "Factors                                                                  \n",
       "GDPCA                                               15208.833999999999   \n",
       "Highway, total                                               2,956,764   \n",
       "Average U.S. light duty vehicle fuel efficiency...                21.7   \n",
       "PAACD                                                             17.9   \n",
       "PAACB                                                       25814788.0   \n",
       "\n",
       "                                                          2010  \\\n",
       "Factors                                                          \n",
       "GDPCA                                                15598.753   \n",
       "Highway, total                                       2,967,266   \n",
       "Average U.S. light duty vehicle fuel efficiency...        21.5   \n",
       "PAACD                                                    21.54   \n",
       "PAACB                                               26190308.0   \n",
       "\n",
       "                                                                  2011  \\\n",
       "Factors                                                                  \n",
       "GDPCA                                               15840.663999999999   \n",
       "Highway, total                                               2,950,402   \n",
       "Average U.S. light duty vehicle fuel efficiency...                21.4   \n",
       "PAACD                                                            27.55   \n",
       "PAACB                                                       25785221.0   \n",
       "\n",
       "                                                          2012        2013  \\\n",
       "Factors                                                                      \n",
       "GDPCA                                                16197.007   16495.369   \n",
       "Highway, total                                       2,969,433   2,988,280   \n",
       "Average U.S. light duty vehicle fuel efficiency...        21.5        21.6   \n",
       "PAACD                                                    28.41       27.74   \n",
       "PAACB                                               25272366.0  25650321.0   \n",
       "\n",
       "                                                          2014        2015  \\\n",
       "Factors                                                                      \n",
       "GDPCA                                                16912.038   17403.843   \n",
       "Highway, total                                       3,025,656   3,095,373   \n",
       "Average U.S. light duty vehicle fuel efficiency...        21.4        22.0   \n",
       "PAACD                                                    26.73       19.16   \n",
       "PAACB                                               26034264.0  26420723.0   \n",
       "\n",
       "                                                          2016        2017  \n",
       "Factors                                                                     \n",
       "GDPCA                                                 17688.89   18108.082  \n",
       "Highway, total                                       3,174,408   3,212,347  \n",
       "Average U.S. light duty vehicle fuel efficiency...       22.0         22.3  \n",
       "PAACD                                                     16.7       18.92  \n",
       "PAACB                                               26958202.0  27144978.0  "
      ]
     },
     "execution_count": 2,
     "metadata": {},
     "output_type": "execute_result"
    }
   ],
   "source": [
    "#df1 = pd.read_csv(\"Summary File for Analysis.csv\")\n",
    "df1 = pd.read_csv('Resources/Summary File.csv', index_col=0)\n",
    "# df1.shape\n",
    "df1.head()"
   ]
  },
  {
   "cell_type": "code",
   "execution_count": 3,
   "metadata": {},
   "outputs": [
    {
     "data": {
      "text/html": [
       "<div>\n",
       "<style scoped>\n",
       "    .dataframe tbody tr th:only-of-type {\n",
       "        vertical-align: middle;\n",
       "    }\n",
       "\n",
       "    .dataframe tbody tr th {\n",
       "        vertical-align: top;\n",
       "    }\n",
       "\n",
       "    .dataframe thead th {\n",
       "        text-align: right;\n",
       "    }\n",
       "</style>\n",
       "<table border=\"1\" class=\"dataframe\">\n",
       "  <thead>\n",
       "    <tr style=\"text-align: right;\">\n",
       "      <th>Factors</th>\n",
       "      <th>GDPCA</th>\n",
       "      <th>Highway, total</th>\n",
       "      <th>Average U.S. light duty vehicle fuel efficiency (mpg) (calendar year)</th>\n",
       "      <th>PAACD</th>\n",
       "      <th>PAACB</th>\n",
       "    </tr>\n",
       "  </thead>\n",
       "  <tbody>\n",
       "    <tr>\n",
       "      <th>2007</th>\n",
       "      <td>15626.028999999999</td>\n",
       "      <td>3,031,124</td>\n",
       "      <td>21.3</td>\n",
       "      <td>20.83</td>\n",
       "      <td>28034208.0</td>\n",
       "    </tr>\n",
       "    <tr>\n",
       "      <th>2008</th>\n",
       "      <td>15604.687</td>\n",
       "      <td>2,976,528</td>\n",
       "      <td>21.8</td>\n",
       "      <td>25.62</td>\n",
       "      <td>26630325.0</td>\n",
       "    </tr>\n",
       "    <tr>\n",
       "      <th>2009</th>\n",
       "      <td>15208.833999999999</td>\n",
       "      <td>2,956,764</td>\n",
       "      <td>21.7</td>\n",
       "      <td>17.9</td>\n",
       "      <td>25814788.0</td>\n",
       "    </tr>\n",
       "    <tr>\n",
       "      <th>2010</th>\n",
       "      <td>15598.753</td>\n",
       "      <td>2,967,266</td>\n",
       "      <td>21.5</td>\n",
       "      <td>21.54</td>\n",
       "      <td>26190308.0</td>\n",
       "    </tr>\n",
       "    <tr>\n",
       "      <th>2011</th>\n",
       "      <td>15840.663999999999</td>\n",
       "      <td>2,950,402</td>\n",
       "      <td>21.4</td>\n",
       "      <td>27.55</td>\n",
       "      <td>25785221.0</td>\n",
       "    </tr>\n",
       "  </tbody>\n",
       "</table>\n",
       "</div>"
      ],
      "text/plain": [
       "Factors               GDPCA Highway, total  \\\n",
       "2007     15626.028999999999      3,031,124   \n",
       "2008              15604.687      2,976,528   \n",
       "2009     15208.833999999999      2,956,764   \n",
       "2010              15598.753      2,967,266   \n",
       "2011     15840.663999999999      2,950,402   \n",
       "\n",
       "Factors Average U.S. light duty vehicle fuel efficiency (mpg) (calendar year)  \\\n",
       "2007                                                  21.3                      \n",
       "2008                                                  21.8                      \n",
       "2009                                                  21.7                      \n",
       "2010                                                  21.5                      \n",
       "2011                                                  21.4                      \n",
       "\n",
       "Factors  PAACD       PAACB  \n",
       "2007     20.83  28034208.0  \n",
       "2008     25.62  26630325.0  \n",
       "2009      17.9  25814788.0  \n",
       "2010     21.54  26190308.0  \n",
       "2011     27.55  25785221.0  "
      ]
     },
     "execution_count": 3,
     "metadata": {},
     "output_type": "execute_result"
    }
   ],
   "source": [
    "df2 = df1.transpose()\n",
    "# df10 = df2.rename(columns=df2.iloc[0])\n",
    "# df15= df10.iloc[1:]\n",
    "# df15.index.name = 'Year'\n",
    "# df16 = df15.set_index(drop=True)\n",
    "df2.head()"
   ]
  },
  {
   "cell_type": "code",
   "execution_count": 4,
   "metadata": {},
   "outputs": [
    {
     "data": {
      "text/html": [
       "<div>\n",
       "<style scoped>\n",
       "    .dataframe tbody tr th:only-of-type {\n",
       "        vertical-align: middle;\n",
       "    }\n",
       "\n",
       "    .dataframe tbody tr th {\n",
       "        vertical-align: top;\n",
       "    }\n",
       "\n",
       "    .dataframe thead th {\n",
       "        text-align: right;\n",
       "    }\n",
       "</style>\n",
       "<table border=\"1\" class=\"dataframe\">\n",
       "  <thead>\n",
       "    <tr style=\"text-align: right;\">\n",
       "      <th>Factors</th>\n",
       "      <th>GDPCA</th>\n",
       "      <th>Highway, total</th>\n",
       "      <th>Average U.S. light duty vehicle fuel efficiency (mpg) (calendar year)</th>\n",
       "      <th>PAACD</th>\n",
       "      <th>PAACB</th>\n",
       "    </tr>\n",
       "  </thead>\n",
       "  <tbody>\n",
       "    <tr>\n",
       "      <th>2007</th>\n",
       "      <td>15626.028999999999</td>\n",
       "      <td>3031124</td>\n",
       "      <td>21.3</td>\n",
       "      <td>20.83</td>\n",
       "      <td>28034208.0</td>\n",
       "    </tr>\n",
       "    <tr>\n",
       "      <th>2008</th>\n",
       "      <td>15604.687</td>\n",
       "      <td>2976528</td>\n",
       "      <td>21.8</td>\n",
       "      <td>25.62</td>\n",
       "      <td>26630325.0</td>\n",
       "    </tr>\n",
       "    <tr>\n",
       "      <th>2009</th>\n",
       "      <td>15208.833999999999</td>\n",
       "      <td>2956764</td>\n",
       "      <td>21.7</td>\n",
       "      <td>17.9</td>\n",
       "      <td>25814788.0</td>\n",
       "    </tr>\n",
       "    <tr>\n",
       "      <th>2010</th>\n",
       "      <td>15598.753</td>\n",
       "      <td>2967266</td>\n",
       "      <td>21.5</td>\n",
       "      <td>21.54</td>\n",
       "      <td>26190308.0</td>\n",
       "    </tr>\n",
       "    <tr>\n",
       "      <th>2011</th>\n",
       "      <td>15840.663999999999</td>\n",
       "      <td>2950402</td>\n",
       "      <td>21.4</td>\n",
       "      <td>27.55</td>\n",
       "      <td>25785221.0</td>\n",
       "    </tr>\n",
       "  </tbody>\n",
       "</table>\n",
       "</div>"
      ],
      "text/plain": [
       "Factors               GDPCA Highway, total  \\\n",
       "2007     15626.028999999999        3031124   \n",
       "2008              15604.687        2976528   \n",
       "2009     15208.833999999999        2956764   \n",
       "2010              15598.753        2967266   \n",
       "2011     15840.663999999999        2950402   \n",
       "\n",
       "Factors Average U.S. light duty vehicle fuel efficiency (mpg) (calendar year)  \\\n",
       "2007                                                  21.3                      \n",
       "2008                                                  21.8                      \n",
       "2009                                                  21.7                      \n",
       "2010                                                  21.5                      \n",
       "2011                                                  21.4                      \n",
       "\n",
       "Factors  PAACD       PAACB  \n",
       "2007     20.83  28034208.0  \n",
       "2008     25.62  26630325.0  \n",
       "2009      17.9  25814788.0  \n",
       "2010     21.54  26190308.0  \n",
       "2011     27.55  25785221.0  "
      ]
     },
     "execution_count": 4,
     "metadata": {},
     "output_type": "execute_result"
    }
   ],
   "source": [
    "df2['Highway, total'] = df2['Highway, total'].str.replace(',','')\n",
    "df2.head()"
   ]
  },
  {
   "cell_type": "code",
   "execution_count": 5,
   "metadata": {},
   "outputs": [
    {
     "data": {
      "text/html": [
       "<div>\n",
       "<style scoped>\n",
       "    .dataframe tbody tr th:only-of-type {\n",
       "        vertical-align: middle;\n",
       "    }\n",
       "\n",
       "    .dataframe tbody tr th {\n",
       "        vertical-align: top;\n",
       "    }\n",
       "\n",
       "    .dataframe thead th {\n",
       "        text-align: right;\n",
       "    }\n",
       "</style>\n",
       "<table border=\"1\" class=\"dataframe\">\n",
       "  <thead>\n",
       "    <tr style=\"text-align: right;\">\n",
       "      <th>Factors</th>\n",
       "      <th>GDPCA</th>\n",
       "      <th>Highway, total</th>\n",
       "      <th>Average U.S. light duty vehicle fuel efficiency (mpg) (calendar year)</th>\n",
       "      <th>PAACD</th>\n",
       "      <th>PAACB</th>\n",
       "    </tr>\n",
       "  </thead>\n",
       "  <tbody>\n",
       "    <tr>\n",
       "      <th>2007</th>\n",
       "      <td>15626.029</td>\n",
       "      <td>3031124</td>\n",
       "      <td>21.3</td>\n",
       "      <td>20.83</td>\n",
       "      <td>28034208.0</td>\n",
       "    </tr>\n",
       "    <tr>\n",
       "      <th>2008</th>\n",
       "      <td>15604.687</td>\n",
       "      <td>2976528</td>\n",
       "      <td>21.8</td>\n",
       "      <td>25.62</td>\n",
       "      <td>26630325.0</td>\n",
       "    </tr>\n",
       "    <tr>\n",
       "      <th>2009</th>\n",
       "      <td>15208.834</td>\n",
       "      <td>2956764</td>\n",
       "      <td>21.7</td>\n",
       "      <td>17.90</td>\n",
       "      <td>25814788.0</td>\n",
       "    </tr>\n",
       "    <tr>\n",
       "      <th>2010</th>\n",
       "      <td>15598.753</td>\n",
       "      <td>2967266</td>\n",
       "      <td>21.5</td>\n",
       "      <td>21.54</td>\n",
       "      <td>26190308.0</td>\n",
       "    </tr>\n",
       "    <tr>\n",
       "      <th>2011</th>\n",
       "      <td>15840.664</td>\n",
       "      <td>2950402</td>\n",
       "      <td>21.4</td>\n",
       "      <td>27.55</td>\n",
       "      <td>25785221.0</td>\n",
       "    </tr>\n",
       "    <tr>\n",
       "      <th>2012</th>\n",
       "      <td>16197.007</td>\n",
       "      <td>2969433</td>\n",
       "      <td>21.5</td>\n",
       "      <td>28.41</td>\n",
       "      <td>25272366.0</td>\n",
       "    </tr>\n",
       "    <tr>\n",
       "      <th>2013</th>\n",
       "      <td>16495.369</td>\n",
       "      <td>2988280</td>\n",
       "      <td>21.6</td>\n",
       "      <td>27.74</td>\n",
       "      <td>25650321.0</td>\n",
       "    </tr>\n",
       "    <tr>\n",
       "      <th>2014</th>\n",
       "      <td>16912.038</td>\n",
       "      <td>3025656</td>\n",
       "      <td>21.4</td>\n",
       "      <td>26.73</td>\n",
       "      <td>26034264.0</td>\n",
       "    </tr>\n",
       "    <tr>\n",
       "      <th>2015</th>\n",
       "      <td>17403.843</td>\n",
       "      <td>3095373</td>\n",
       "      <td>22.0</td>\n",
       "      <td>19.16</td>\n",
       "      <td>26420723.0</td>\n",
       "    </tr>\n",
       "    <tr>\n",
       "      <th>2016</th>\n",
       "      <td>17688.890</td>\n",
       "      <td>3174408</td>\n",
       "      <td>22.0</td>\n",
       "      <td>16.70</td>\n",
       "      <td>26958202.0</td>\n",
       "    </tr>\n",
       "    <tr>\n",
       "      <th>2017</th>\n",
       "      <td>18108.082</td>\n",
       "      <td>3212347</td>\n",
       "      <td>22.3</td>\n",
       "      <td>18.92</td>\n",
       "      <td>27144978.0</td>\n",
       "    </tr>\n",
       "  </tbody>\n",
       "</table>\n",
       "</div>"
      ],
      "text/plain": [
       "Factors      GDPCA  Highway, total  \\\n",
       "2007     15626.029         3031124   \n",
       "2008     15604.687         2976528   \n",
       "2009     15208.834         2956764   \n",
       "2010     15598.753         2967266   \n",
       "2011     15840.664         2950402   \n",
       "2012     16197.007         2969433   \n",
       "2013     16495.369         2988280   \n",
       "2014     16912.038         3025656   \n",
       "2015     17403.843         3095373   \n",
       "2016     17688.890         3174408   \n",
       "2017     18108.082         3212347   \n",
       "\n",
       "Factors  Average U.S. light duty vehicle fuel efficiency (mpg) (calendar year)  \\\n",
       "2007                                                  21.3                       \n",
       "2008                                                  21.8                       \n",
       "2009                                                  21.7                       \n",
       "2010                                                  21.5                       \n",
       "2011                                                  21.4                       \n",
       "2012                                                  21.5                       \n",
       "2013                                                  21.6                       \n",
       "2014                                                  21.4                       \n",
       "2015                                                  22.0                       \n",
       "2016                                                  22.0                       \n",
       "2017                                                  22.3                       \n",
       "\n",
       "Factors  PAACD       PAACB  \n",
       "2007     20.83  28034208.0  \n",
       "2008     25.62  26630325.0  \n",
       "2009     17.90  25814788.0  \n",
       "2010     21.54  26190308.0  \n",
       "2011     27.55  25785221.0  \n",
       "2012     28.41  25272366.0  \n",
       "2013     27.74  25650321.0  \n",
       "2014     26.73  26034264.0  \n",
       "2015     19.16  26420723.0  \n",
       "2016     16.70  26958202.0  \n",
       "2017     18.92  27144978.0  "
      ]
     },
     "execution_count": 5,
     "metadata": {},
     "output_type": "execute_result"
    }
   ],
   "source": [
    "df2.apply(pd.to_numeric)"
   ]
  },
  {
   "cell_type": "code",
   "execution_count": 6,
   "metadata": {},
   "outputs": [],
   "source": [
    "# df3=df2.astype('float').dtypes\n",
    "#assing to a variable to save it \n",
    "#try pd.DataFrame(df2)\n",
    "#could also try df.to_numeric()\n",
    "#df2.head()"
   ]
  },
  {
   "cell_type": "code",
   "execution_count": 7,
   "metadata": {},
   "outputs": [
    {
     "data": {
      "text/html": [
       "<div>\n",
       "<style scoped>\n",
       "    .dataframe tbody tr th:only-of-type {\n",
       "        vertical-align: middle;\n",
       "    }\n",
       "\n",
       "    .dataframe tbody tr th {\n",
       "        vertical-align: top;\n",
       "    }\n",
       "\n",
       "    .dataframe thead th {\n",
       "        text-align: right;\n",
       "    }\n",
       "</style>\n",
       "<table border=\"1\" class=\"dataframe\">\n",
       "  <thead>\n",
       "    <tr style=\"text-align: right;\">\n",
       "      <th>Factors</th>\n",
       "      <th>GDP</th>\n",
       "      <th>Total Miles</th>\n",
       "      <th>MPG</th>\n",
       "      <th>PAACD</th>\n",
       "      <th>PAACB</th>\n",
       "    </tr>\n",
       "  </thead>\n",
       "  <tbody>\n",
       "    <tr>\n",
       "      <th>2007</th>\n",
       "      <td>15626.028999999999</td>\n",
       "      <td>3031124</td>\n",
       "      <td>21.3</td>\n",
       "      <td>20.83</td>\n",
       "      <td>28034208.0</td>\n",
       "    </tr>\n",
       "    <tr>\n",
       "      <th>2008</th>\n",
       "      <td>15604.687</td>\n",
       "      <td>2976528</td>\n",
       "      <td>21.8</td>\n",
       "      <td>25.62</td>\n",
       "      <td>26630325.0</td>\n",
       "    </tr>\n",
       "    <tr>\n",
       "      <th>2009</th>\n",
       "      <td>15208.833999999999</td>\n",
       "      <td>2956764</td>\n",
       "      <td>21.7</td>\n",
       "      <td>17.9</td>\n",
       "      <td>25814788.0</td>\n",
       "    </tr>\n",
       "    <tr>\n",
       "      <th>2010</th>\n",
       "      <td>15598.753</td>\n",
       "      <td>2967266</td>\n",
       "      <td>21.5</td>\n",
       "      <td>21.54</td>\n",
       "      <td>26190308.0</td>\n",
       "    </tr>\n",
       "    <tr>\n",
       "      <th>2011</th>\n",
       "      <td>15840.663999999999</td>\n",
       "      <td>2950402</td>\n",
       "      <td>21.4</td>\n",
       "      <td>27.55</td>\n",
       "      <td>25785221.0</td>\n",
       "    </tr>\n",
       "  </tbody>\n",
       "</table>\n",
       "</div>"
      ],
      "text/plain": [
       "Factors                 GDP Total Miles   MPG  PAACD       PAACB\n",
       "2007     15626.028999999999     3031124  21.3  20.83  28034208.0\n",
       "2008              15604.687     2976528  21.8  25.62  26630325.0\n",
       "2009     15208.833999999999     2956764  21.7   17.9  25814788.0\n",
       "2010              15598.753     2967266  21.5  21.54  26190308.0\n",
       "2011     15840.663999999999     2950402  21.4  27.55  25785221.0"
      ]
     },
     "execution_count": 7,
     "metadata": {},
     "output_type": "execute_result"
    }
   ],
   "source": [
    "df2.rename(columns={'Factors':'Year', \"GDPCA\":'GDP', \"Highway, total\":'Total Miles', \"Average U.S. light duty vehicle fuel efficiency (mpg) (calendar year)\":'MPG', \"PAACD\":'PAACD', \"PAACB\":'PAACB'}, inplace=True)\n",
    "df2.head()"
   ]
  },
  {
   "cell_type": "code",
   "execution_count": 8,
   "metadata": {},
   "outputs": [
    {
     "data": {
      "text/html": [
       "<div>\n",
       "<style scoped>\n",
       "    .dataframe tbody tr th:only-of-type {\n",
       "        vertical-align: middle;\n",
       "    }\n",
       "\n",
       "    .dataframe tbody tr th {\n",
       "        vertical-align: top;\n",
       "    }\n",
       "\n",
       "    .dataframe thead th {\n",
       "        text-align: right;\n",
       "    }\n",
       "</style>\n",
       "<table border=\"1\" class=\"dataframe\">\n",
       "  <thead>\n",
       "    <tr style=\"text-align: right;\">\n",
       "      <th>Factors</th>\n",
       "      <th>GDP</th>\n",
       "      <th>Total Miles</th>\n",
       "      <th>MPG</th>\n",
       "      <th>PAACD</th>\n",
       "      <th>PAACB</th>\n",
       "      <th>Year</th>\n",
       "    </tr>\n",
       "  </thead>\n",
       "  <tbody>\n",
       "    <tr>\n",
       "      <th>2007</th>\n",
       "      <td>15626.028999999999</td>\n",
       "      <td>3031124</td>\n",
       "      <td>21.3</td>\n",
       "      <td>20.83</td>\n",
       "      <td>28034208.0</td>\n",
       "      <td>2007</td>\n",
       "    </tr>\n",
       "    <tr>\n",
       "      <th>2008</th>\n",
       "      <td>15604.687</td>\n",
       "      <td>2976528</td>\n",
       "      <td>21.8</td>\n",
       "      <td>25.62</td>\n",
       "      <td>26630325.0</td>\n",
       "      <td>2008</td>\n",
       "    </tr>\n",
       "    <tr>\n",
       "      <th>2009</th>\n",
       "      <td>15208.833999999999</td>\n",
       "      <td>2956764</td>\n",
       "      <td>21.7</td>\n",
       "      <td>17.9</td>\n",
       "      <td>25814788.0</td>\n",
       "      <td>2009</td>\n",
       "    </tr>\n",
       "    <tr>\n",
       "      <th>2010</th>\n",
       "      <td>15598.753</td>\n",
       "      <td>2967266</td>\n",
       "      <td>21.5</td>\n",
       "      <td>21.54</td>\n",
       "      <td>26190308.0</td>\n",
       "      <td>2010</td>\n",
       "    </tr>\n",
       "    <tr>\n",
       "      <th>2011</th>\n",
       "      <td>15840.663999999999</td>\n",
       "      <td>2950402</td>\n",
       "      <td>21.4</td>\n",
       "      <td>27.55</td>\n",
       "      <td>25785221.0</td>\n",
       "      <td>2011</td>\n",
       "    </tr>\n",
       "  </tbody>\n",
       "</table>\n",
       "</div>"
      ],
      "text/plain": [
       "Factors                 GDP Total Miles   MPG  PAACD       PAACB  Year\n",
       "2007     15626.028999999999     3031124  21.3  20.83  28034208.0  2007\n",
       "2008              15604.687     2976528  21.8  25.62  26630325.0  2008\n",
       "2009     15208.833999999999     2956764  21.7   17.9  25814788.0  2009\n",
       "2010              15598.753     2967266  21.5  21.54  26190308.0  2010\n",
       "2011     15840.663999999999     2950402  21.4  27.55  25785221.0  2011"
      ]
     },
     "execution_count": 8,
     "metadata": {},
     "output_type": "execute_result"
    }
   ],
   "source": [
    "#df3['Consumed TBTU'] = df2['Consumed TBTU']/ (1000)\n",
    "# df2.dtypes\n",
    "years = [2007,2008,2009,2010,2011,2012,2013,2014,2015,2016,2017]\n",
    "df2['Year'] = years\n",
    "df2.head()"
   ]
  },
  {
   "cell_type": "markdown",
   "metadata": {},
   "source": [
    "Consolidated Summary File with the following factors:\n",
    " - GDPCA (Real GDP)\n",
    " - Highway, total (annual miles)\n",
    " - Average U.S. light duty vehicle fuel efficiency (mpg) (calendar year)\n",
    " - PAACD (All petroleum products average price in the transportation sector; in dollars per million Btu)\n",
    " - PAACB (All petroleum products consumed by the transportation sector; in billion Btu)"
   ]
  },
  {
   "cell_type": "code",
   "execution_count": 9,
   "metadata": {},
   "outputs": [
    {
     "data": {
      "text/html": [
       "<div>\n",
       "<style scoped>\n",
       "    .dataframe tbody tr th:only-of-type {\n",
       "        vertical-align: middle;\n",
       "    }\n",
       "\n",
       "    .dataframe tbody tr th {\n",
       "        vertical-align: top;\n",
       "    }\n",
       "\n",
       "    .dataframe thead th {\n",
       "        text-align: right;\n",
       "    }\n",
       "</style>\n",
       "<table border=\"1\" class=\"dataframe\">\n",
       "  <thead>\n",
       "    <tr style=\"text-align: right;\">\n",
       "      <th>Factors</th>\n",
       "      <th>GDP</th>\n",
       "      <th>Total Miles</th>\n",
       "      <th>MPG</th>\n",
       "      <th>PAACD</th>\n",
       "      <th>PAACB</th>\n",
       "      <th>Year</th>\n",
       "    </tr>\n",
       "  </thead>\n",
       "  <tbody>\n",
       "    <tr>\n",
       "      <th>0</th>\n",
       "      <td>15626.028999999999</td>\n",
       "      <td>3031124</td>\n",
       "      <td>21.3</td>\n",
       "      <td>20.83</td>\n",
       "      <td>28034208.0</td>\n",
       "      <td>2007</td>\n",
       "    </tr>\n",
       "    <tr>\n",
       "      <th>1</th>\n",
       "      <td>15604.687</td>\n",
       "      <td>2976528</td>\n",
       "      <td>21.8</td>\n",
       "      <td>25.62</td>\n",
       "      <td>26630325.0</td>\n",
       "      <td>2008</td>\n",
       "    </tr>\n",
       "    <tr>\n",
       "      <th>2</th>\n",
       "      <td>15208.833999999999</td>\n",
       "      <td>2956764</td>\n",
       "      <td>21.7</td>\n",
       "      <td>17.9</td>\n",
       "      <td>25814788.0</td>\n",
       "      <td>2009</td>\n",
       "    </tr>\n",
       "    <tr>\n",
       "      <th>3</th>\n",
       "      <td>15598.753</td>\n",
       "      <td>2967266</td>\n",
       "      <td>21.5</td>\n",
       "      <td>21.54</td>\n",
       "      <td>26190308.0</td>\n",
       "      <td>2010</td>\n",
       "    </tr>\n",
       "    <tr>\n",
       "      <th>4</th>\n",
       "      <td>15840.663999999999</td>\n",
       "      <td>2950402</td>\n",
       "      <td>21.4</td>\n",
       "      <td>27.55</td>\n",
       "      <td>25785221.0</td>\n",
       "      <td>2011</td>\n",
       "    </tr>\n",
       "    <tr>\n",
       "      <th>5</th>\n",
       "      <td>16197.007</td>\n",
       "      <td>2969433</td>\n",
       "      <td>21.5</td>\n",
       "      <td>28.41</td>\n",
       "      <td>25272366.0</td>\n",
       "      <td>2012</td>\n",
       "    </tr>\n",
       "    <tr>\n",
       "      <th>6</th>\n",
       "      <td>16495.369</td>\n",
       "      <td>2988280</td>\n",
       "      <td>21.6</td>\n",
       "      <td>27.74</td>\n",
       "      <td>25650321.0</td>\n",
       "      <td>2013</td>\n",
       "    </tr>\n",
       "    <tr>\n",
       "      <th>7</th>\n",
       "      <td>16912.038</td>\n",
       "      <td>3025656</td>\n",
       "      <td>21.4</td>\n",
       "      <td>26.73</td>\n",
       "      <td>26034264.0</td>\n",
       "      <td>2014</td>\n",
       "    </tr>\n",
       "    <tr>\n",
       "      <th>8</th>\n",
       "      <td>17403.843</td>\n",
       "      <td>3095373</td>\n",
       "      <td>22.0</td>\n",
       "      <td>19.16</td>\n",
       "      <td>26420723.0</td>\n",
       "      <td>2015</td>\n",
       "    </tr>\n",
       "    <tr>\n",
       "      <th>9</th>\n",
       "      <td>17688.89</td>\n",
       "      <td>3174408</td>\n",
       "      <td>22.0</td>\n",
       "      <td>16.7</td>\n",
       "      <td>26958202.0</td>\n",
       "      <td>2016</td>\n",
       "    </tr>\n",
       "    <tr>\n",
       "      <th>10</th>\n",
       "      <td>18108.082</td>\n",
       "      <td>3212347</td>\n",
       "      <td>22.3</td>\n",
       "      <td>18.92</td>\n",
       "      <td>27144978.0</td>\n",
       "      <td>2017</td>\n",
       "    </tr>\n",
       "  </tbody>\n",
       "</table>\n",
       "</div>"
      ],
      "text/plain": [
       "Factors                 GDP Total Miles    MPG  PAACD       PAACB  Year\n",
       "0        15626.028999999999     3031124   21.3  20.83  28034208.0  2007\n",
       "1                 15604.687     2976528   21.8  25.62  26630325.0  2008\n",
       "2        15208.833999999999     2956764   21.7   17.9  25814788.0  2009\n",
       "3                 15598.753     2967266   21.5  21.54  26190308.0  2010\n",
       "4        15840.663999999999     2950402   21.4  27.55  25785221.0  2011\n",
       "5                 16197.007     2969433   21.5  28.41  25272366.0  2012\n",
       "6                 16495.369     2988280   21.6  27.74  25650321.0  2013\n",
       "7                 16912.038     3025656   21.4  26.73  26034264.0  2014\n",
       "8                 17403.843     3095373   22.0  19.16  26420723.0  2015\n",
       "9                  17688.89     3174408  22.0    16.7  26958202.0  2016\n",
       "10                18108.082     3212347   22.3  18.92  27144978.0  2017"
      ]
     },
     "execution_count": 9,
     "metadata": {},
     "output_type": "execute_result"
    }
   ],
   "source": [
    "df2.reset_index(drop=True, inplace=True)\n",
    "df2\n",
    "#del df2.index.name\n",
    "#df2.head()"
   ]
  },
  {
   "cell_type": "code",
   "execution_count": 10,
   "metadata": {},
   "outputs": [],
   "source": [
    "df2.to_csv(\"Data_Clean\",index=False)"
   ]
  },
  {
   "cell_type": "code",
   "execution_count": 11,
   "metadata": {},
   "outputs": [
    {
     "data": {
      "text/html": [
       "<div>\n",
       "<style scoped>\n",
       "    .dataframe tbody tr th:only-of-type {\n",
       "        vertical-align: middle;\n",
       "    }\n",
       "\n",
       "    .dataframe tbody tr th {\n",
       "        vertical-align: top;\n",
       "    }\n",
       "\n",
       "    .dataframe thead th {\n",
       "        text-align: right;\n",
       "    }\n",
       "</style>\n",
       "<table border=\"1\" class=\"dataframe\">\n",
       "  <thead>\n",
       "    <tr style=\"text-align: right;\">\n",
       "      <th></th>\n",
       "      <th>GDP</th>\n",
       "      <th>Total Miles</th>\n",
       "      <th>MPG</th>\n",
       "      <th>PAACD</th>\n",
       "      <th>PAACB</th>\n",
       "      <th>Year</th>\n",
       "    </tr>\n",
       "  </thead>\n",
       "  <tbody>\n",
       "    <tr>\n",
       "      <th>0</th>\n",
       "      <td>15626.029</td>\n",
       "      <td>3031124</td>\n",
       "      <td>21.3</td>\n",
       "      <td>20.83</td>\n",
       "      <td>28034208.0</td>\n",
       "      <td>2007</td>\n",
       "    </tr>\n",
       "    <tr>\n",
       "      <th>1</th>\n",
       "      <td>15604.687</td>\n",
       "      <td>2976528</td>\n",
       "      <td>21.8</td>\n",
       "      <td>25.62</td>\n",
       "      <td>26630325.0</td>\n",
       "      <td>2008</td>\n",
       "    </tr>\n",
       "    <tr>\n",
       "      <th>2</th>\n",
       "      <td>15208.834</td>\n",
       "      <td>2956764</td>\n",
       "      <td>21.7</td>\n",
       "      <td>17.90</td>\n",
       "      <td>25814788.0</td>\n",
       "      <td>2009</td>\n",
       "    </tr>\n",
       "    <tr>\n",
       "      <th>3</th>\n",
       "      <td>15598.753</td>\n",
       "      <td>2967266</td>\n",
       "      <td>21.5</td>\n",
       "      <td>21.54</td>\n",
       "      <td>26190308.0</td>\n",
       "      <td>2010</td>\n",
       "    </tr>\n",
       "    <tr>\n",
       "      <th>4</th>\n",
       "      <td>15840.664</td>\n",
       "      <td>2950402</td>\n",
       "      <td>21.4</td>\n",
       "      <td>27.55</td>\n",
       "      <td>25785221.0</td>\n",
       "      <td>2011</td>\n",
       "    </tr>\n",
       "  </tbody>\n",
       "</table>\n",
       "</div>"
      ],
      "text/plain": [
       "         GDP  Total Miles   MPG  PAACD       PAACB  Year\n",
       "0  15626.029      3031124  21.3  20.83  28034208.0  2007\n",
       "1  15604.687      2976528  21.8  25.62  26630325.0  2008\n",
       "2  15208.834      2956764  21.7  17.90  25814788.0  2009\n",
       "3  15598.753      2967266  21.5  21.54  26190308.0  2010\n",
       "4  15840.664      2950402  21.4  27.55  25785221.0  2011"
      ]
     },
     "execution_count": 11,
     "metadata": {},
     "output_type": "execute_result"
    }
   ],
   "source": [
    "file = pd.read_csv(\"Data_Clean\")\n",
    "file.head()"
   ]
  },
  {
   "cell_type": "code",
   "execution_count": 12,
   "metadata": {},
   "outputs": [
    {
     "data": {
      "text/html": [
       "<div>\n",
       "<style scoped>\n",
       "    .dataframe tbody tr th:only-of-type {\n",
       "        vertical-align: middle;\n",
       "    }\n",
       "\n",
       "    .dataframe tbody tr th {\n",
       "        vertical-align: top;\n",
       "    }\n",
       "\n",
       "    .dataframe thead th {\n",
       "        text-align: right;\n",
       "    }\n",
       "</style>\n",
       "<table border=\"1\" class=\"dataframe\">\n",
       "  <thead>\n",
       "    <tr style=\"text-align: right;\">\n",
       "      <th></th>\n",
       "      <th>GDP</th>\n",
       "      <th>Total Miles</th>\n",
       "      <th>MPG</th>\n",
       "      <th>PAACD</th>\n",
       "      <th>PAACB</th>\n",
       "      <th>Year</th>\n",
       "    </tr>\n",
       "  </thead>\n",
       "  <tbody>\n",
       "    <tr>\n",
       "      <th>GDP</th>\n",
       "      <td>1.000000</td>\n",
       "      <td>0.896597</td>\n",
       "      <td>0.707174</td>\n",
       "      <td>-0.308445</td>\n",
       "      <td>0.226947</td>\n",
       "      <td>0.947161</td>\n",
       "    </tr>\n",
       "    <tr>\n",
       "      <th>Total Miles</th>\n",
       "      <td>0.896597</td>\n",
       "      <td>1.000000</td>\n",
       "      <td>0.779332</td>\n",
       "      <td>-0.617035</td>\n",
       "      <td>0.575169</td>\n",
       "      <td>0.753948</td>\n",
       "    </tr>\n",
       "    <tr>\n",
       "      <th>MPG</th>\n",
       "      <td>0.707174</td>\n",
       "      <td>0.779332</td>\n",
       "      <td>1.000000</td>\n",
       "      <td>-0.587381</td>\n",
       "      <td>0.249188</td>\n",
       "      <td>0.646506</td>\n",
       "    </tr>\n",
       "    <tr>\n",
       "      <th>PAACD</th>\n",
       "      <td>-0.308445</td>\n",
       "      <td>-0.617035</td>\n",
       "      <td>-0.587381</td>\n",
       "      <td>1.000000</td>\n",
       "      <td>-0.573050</td>\n",
       "      <td>-0.209868</td>\n",
       "    </tr>\n",
       "    <tr>\n",
       "      <th>PAACB</th>\n",
       "      <td>0.226947</td>\n",
       "      <td>0.575169</td>\n",
       "      <td>0.249188</td>\n",
       "      <td>-0.573050</td>\n",
       "      <td>1.000000</td>\n",
       "      <td>-0.066987</td>\n",
       "    </tr>\n",
       "    <tr>\n",
       "      <th>Year</th>\n",
       "      <td>0.947161</td>\n",
       "      <td>0.753948</td>\n",
       "      <td>0.646506</td>\n",
       "      <td>-0.209868</td>\n",
       "      <td>-0.066987</td>\n",
       "      <td>1.000000</td>\n",
       "    </tr>\n",
       "  </tbody>\n",
       "</table>\n",
       "</div>"
      ],
      "text/plain": [
       "                  GDP  Total Miles       MPG     PAACD     PAACB      Year\n",
       "GDP          1.000000     0.896597  0.707174 -0.308445  0.226947  0.947161\n",
       "Total Miles  0.896597     1.000000  0.779332 -0.617035  0.575169  0.753948\n",
       "MPG          0.707174     0.779332  1.000000 -0.587381  0.249188  0.646506\n",
       "PAACD       -0.308445    -0.617035 -0.587381  1.000000 -0.573050 -0.209868\n",
       "PAACB        0.226947     0.575169  0.249188 -0.573050  1.000000 -0.066987\n",
       "Year         0.947161     0.753948  0.646506 -0.209868 -0.066987  1.000000"
      ]
     },
     "execution_count": 12,
     "metadata": {},
     "output_type": "execute_result"
    }
   ],
   "source": [
    "file.corr()"
   ]
  },
  {
   "cell_type": "markdown",
   "metadata": {},
   "source": [
    "BASED ON ABOVE CORR()\n",
    "- GDP relationship with year (GDP Expansion every year)\n",
    "- GDP relationship with total miles (Expanding economy increases miles driven)\n",
    "- GDP negative correlation with PAACD (inverse correlation - economic activty up and fuel price down)\n",
    "- PAACD: negative correlation to everything (strongly with total miles). High price reduced miles\n",
    "- MPG: Possible inverse correlation - MPG increases and cost of fuel decreases (MPG up every but pricing flux)"
   ]
  },
  {
   "cell_type": "code",
   "execution_count": 13,
   "metadata": {},
   "outputs": [
    {
     "data": {
      "text/plain": [
       "<seaborn.axisgrid.PairGrid at 0x242d59ffc08>"
      ]
     },
     "execution_count": 13,
     "metadata": {},
     "output_type": "execute_result"
    },
    {
     "data": {
      "image/png": "[encoded data removed]",
      "text/plain": [
       "<Figure size 1080x1080 with 42 Axes>"
      ]
     },
     "metadata": {
      "needs_background": "light"
     },
     "output_type": "display_data"
    }
   ],
   "source": [
    "#LETS LOOK AT ALL THE RELATIONSHIPS USING SNS.PAIRPLOT TO VISUALIZE THE CORR() ABOVE\n",
    "sns.pairplot(file)\n",
    "#Histrogram along diagnol\n",
    "#Visually see GDP, Total Miles,PAACB - consumption up and GDP up"
   ]
  },
  {
   "cell_type": "code",
   "execution_count": 14,
   "metadata": {},
   "outputs": [
    {
     "data": {
      "text/plain": [
       "['GDP', 'MPG']"
      ]
     },
     "execution_count": 14,
     "metadata": {},
     "output_type": "execute_result"
    }
   ],
   "source": [
    "#ISOLATE TWO VARIABLES FOR BOXPLOT - NOT SURE IF THIS WAS USEFUL\n",
    "cols = file.columns.to_list()\n",
    "cols.remove('Year')\n",
    "cols.remove('PAACB')\n",
    "cols.remove('PAACD')\n",
    "cols.remove('Total Miles')\n",
    "cols"
   ]
  },
  {
   "cell_type": "code",
   "execution_count": 15,
   "metadata": {},
   "outputs": [
    {
     "data": {
      "text/plain": [
       "<matplotlib.axes._subplots.AxesSubplot at 0x242d9b1c548>"
      ]
     },
     "execution_count": 15,
     "metadata": {},
     "output_type": "execute_result"
    },
    {
     "data": {
      "image/png": "[encoded data removed]",
      "text/plain": [
       "<Figure size 432x288 with 1 Axes>"
      ]
     },
     "metadata": {
      "needs_background": "light"
     },
     "output_type": "display_data"
    }
   ],
   "source": [
    "file.boxplot(column=['GDP'])"
   ]
  },
  {
   "cell_type": "code",
   "execution_count": 16,
   "metadata": {},
   "outputs": [
    {
     "data": {
      "text/plain": [
       "<matplotlib.axes._subplots.AxesSubplot at 0x242d9e5c208>"
      ]
     },
     "execution_count": 16,
     "metadata": {},
     "output_type": "execute_result"
    },
    {
     "data": {
      "image/png": "[encoded data removed]",
      "text/plain": [
       "<Figure size 432x288 with 1 Axes>"
      ]
     },
     "metadata": {
      "needs_background": "light"
     },
     "output_type": "display_data"
    }
   ],
   "source": [
    "file.boxplot(column=['PAACB'])"
   ]
  },
  {
   "cell_type": "code",
   "execution_count": 17,
   "metadata": {},
   "outputs": [
    {
     "data": {
      "text/plain": [
       "<matplotlib.axes._subplots.AxesSubplot at 0x242da370788>"
      ]
     },
     "execution_count": 17,
     "metadata": {},
     "output_type": "execute_result"
    },
    {
     "data": {
      "image/png": "[encoded data removed]",
      "text/plain": [
       "<Figure size 432x288 with 1 Axes>"
      ]
     },
     "metadata": {
      "needs_background": "light"
     },
     "output_type": "display_data"
    }
   ],
   "source": [
    "file.boxplot(column=['PAACD'])"
   ]
  },
  {
   "cell_type": "code",
   "execution_count": 18,
   "metadata": {},
   "outputs": [
    {
     "data": {
      "text/plain": [
       "<matplotlib.axes._subplots.AxesSubplot at 0x242da3ef288>"
      ]
     },
     "execution_count": 18,
     "metadata": {},
     "output_type": "execute_result"
    },
    {
     "data": {
      "image/png": "[encoded data removed]",
      "text/plain": [
       "<Figure size 432x288 with 1 Axes>"
      ]
     },
     "metadata": {
      "needs_background": "light"
     },
     "output_type": "display_data"
    }
   ],
   "source": [
    "file.boxplot(column=['MPG'])"
   ]
  },
  {
   "cell_type": "code",
   "execution_count": 19,
   "metadata": {},
   "outputs": [
    {
     "data": {
      "text/plain": [
       "<matplotlib.axes._subplots.AxesSubplot at 0x242da434a48>"
      ]
     },
     "execution_count": 19,
     "metadata": {},
     "output_type": "execute_result"
    },
    {
     "data": {
      "image/png": "[encoded data removed]",
      "text/plain": [
       "<Figure size 432x288 with 1 Axes>"
      ]
     },
     "metadata": {
      "needs_background": "light"
     },
     "output_type": "display_data"
    }
   ],
   "source": [
    "file.boxplot(column=['Total Miles'])"
   ]
  },
  {
   "cell_type": "markdown",
   "metadata": {},
   "source": [
    "- USE SCATTER PLOTS TO LOOK AT YEAR + GDP, MILES, MPG, PAACB, PAACD TO COMPARE TRENDS OVER TIME - POSSIBLY JUST A DATA CHECK"
   ]
  },
  {
   "cell_type": "code",
   "execution_count": 20,
   "metadata": {},
   "outputs": [
    {
     "data": {
      "text/plain": [
       "<matplotlib.collections.PathCollection at 0x242da4f6e48>"
      ]
     },
     "execution_count": 20,
     "metadata": {},
     "output_type": "execute_result"
    },
    {
     "data": {
      "image/png": "[encoded data removed]",
      "text/plain": [
       "<Figure size 432x288 with 1 Axes>"
      ]
     },
     "metadata": {
      "needs_background": "light"
     },
     "output_type": "display_data"
    }
   ],
   "source": [
    "plt.scatter(file['Year'], file['GDP'])"
   ]
  },
  {
   "cell_type": "code",
   "execution_count": 34,
   "metadata": {},
   "outputs": [
    {
     "data": {
      "image/png": "[encoded data removed]",
      "text/plain": [
       "<Figure size 432x288 with 1 Axes>"
      ]
     },
     "metadata": {
      "needs_background": "light"
     },
     "output_type": "display_data"
    }
   ],
   "source": [
    "plt.scatter(file['Year'], file['Total Miles'])\n",
    "plt.savefig(\"year_totmiles.png\")"
   ]
  },
  {
   "cell_type": "code",
   "execution_count": 22,
   "metadata": {},
   "outputs": [
    {
     "data": {
      "text/plain": [
       "<matplotlib.collections.PathCollection at 0x242da5bf5c8>"
      ]
     },
     "execution_count": 22,
     "metadata": {},
     "output_type": "execute_result"
    },
    {
     "data": {
      "image/png": "[encoded data removed]",
      "text/plain": [
       "<Figure size 432x288 with 1 Axes>"
      ]
     },
     "metadata": {
      "needs_background": "light"
     },
     "output_type": "display_data"
    }
   ],
   "source": [
    "plt.scatter(file['Year'], file['MPG'])"
   ]
  },
  {
   "cell_type": "code",
   "execution_count": 35,
   "metadata": {},
   "outputs": [
    {
     "data": {
      "image/png": "[encoded data removed]",
      "text/plain": [
       "<Figure size 432x288 with 1 Axes>"
      ]
     },
     "metadata": {
      "needs_background": "light"
     },
     "output_type": "display_data"
    }
   ],
   "source": [
    "plt.scatter(file['Year'], file['PAACB'])\n",
    "plt.savefig(\"year_price_sct.png\")"
   ]
  },
  {
   "cell_type": "code",
   "execution_count": 24,
   "metadata": {},
   "outputs": [
    {
     "data": {
      "text/plain": [
       "<matplotlib.collections.PathCollection at 0x242db649348>"
      ]
     },
     "execution_count": 24,
     "metadata": {},
     "output_type": "execute_result"
    },
    {
     "data": {
      "image/png": "[encoded data removed]",
      "text/plain": [
       "<Figure size 432x288 with 1 Axes>"
      ]
     },
     "metadata": {
      "needs_background": "light"
     },
     "output_type": "display_data"
    }
   ],
   "source": [
    "plt.scatter(file['Year'], file['PAACD'])"
   ]
  },
  {
   "cell_type": "markdown",
   "metadata": {},
   "source": [
    "- BASED ON THE PAIRPLOT ABOVE WE DO SEE A STRONG RELATIONSHIPS: GDP, TOTAL MILES, PAACD(PRICE), PAACB(CONSUMPTION)\n",
    "- RUN ST.PEARSON CORRELATION, ST.LINGERESS REGRESSION, PLOT LINE REGRESSION ON GDP TOTAL MILES "
   ]
  },
  {
   "cell_type": "code",
   "execution_count": 25,
   "metadata": {},
   "outputs": [
    {
     "data": {
      "text/plain": [
       "(0.8965972836472216, 0.00018502781522408842)"
      ]
     },
     "execution_count": 25,
     "metadata": {},
     "output_type": "execute_result"
    }
   ],
   "source": [
    "correlation = st.pearsonr(file['GDP'], file['Total Miles'])\n",
    "correlation"
   ]
  },
  {
   "cell_type": "markdown",
   "metadata": {},
   "source": [
    "- STRONGLY CORRELATED GDP to Total Miles: 0.00018502781522408668 - if this is the pvalue?  Run St.linregress to name all numbers."
   ]
  },
  {
   "cell_type": "code",
   "execution_count": 26,
   "metadata": {},
   "outputs": [
    {
     "data": {
      "text/plain": [
       "LinregressResult(slope=83.45157969839758, intercept=1660836.310660465, rvalue=0.8965972836472216, pvalue=0.00018502781522408823, stderr=13.739452422303122)"
      ]
     },
     "execution_count": 26,
     "metadata": {},
     "output_type": "execute_result"
    }
   ],
   "source": [
    "regression = st.linregress(file['GDP'], file['Total Miles'])\n",
    "regression"
   ]
  },
  {
   "cell_type": "markdown",
   "metadata": {},
   "source": [
    "- yes, it is the pvalue.\n",
    "- pvale of 0.0001850 indicates strongest correlation with GDP and TOTAL MILES.  As GDP rises so does Total Miles."
   ]
  },
  {
   "cell_type": "code",
   "execution_count": 27,
   "metadata": {},
   "outputs": [
    {
     "data": {
      "image/png": "[encoded data removed]",
      "text/plain": [
       "<Figure size 432x288 with 1 Axes>"
      ]
     },
     "metadata": {
      "needs_background": "light"
     },
     "output_type": "display_data"
    }
   ],
   "source": [
    "#\n",
    "plt.scatter(file['GDP'], file['Total Miles'])\n",
    "line_regression = file['GDP']*regression[0]+regression[1]\n",
    "plt.plot(file['GDP'],line_regression)\n",
    "\n",
    "plt.savefig(\"Tot_miles & GDP.png\")"
   ]
  },
  {
   "cell_type": "code",
   "execution_count": 33,
   "metadata": {},
   "outputs": [
    {
     "data": {
      "image/png": "[encoded data removed]",
      "text/plain": [
       "<Figure size 432x288 with 1 Axes>"
      ]
     },
     "metadata": {
      "needs_background": "light"
     },
     "output_type": "display_data"
    }
   ],
   "source": [
    "# Similar - but light blue shading provides area of confidence\n",
    "sns.regplot(file['GDP'], file['Total Miles'])\n",
    "plt.savefig(\"gdp & tot_miles_sns.png\")"
   ]
  },
  {
   "cell_type": "code",
   "execution_count": 29,
   "metadata": {},
   "outputs": [
    {
     "data": {
      "text/plain": [
       "(-0.6170352048420091, 0.04314247706349171)"
      ]
     },
     "execution_count": 29,
     "metadata": {},
     "output_type": "execute_result"
    }
   ],
   "source": [
    "correlation = st.pearsonr(file['PAACD'], file['Total Miles'])\n",
    "correlation"
   ]
  },
  {
   "cell_type": "markdown",
   "metadata": {},
   "source": [
    "- P value of .043 indicates strong correlation as it is below .05\n",
    "- Total Miles and PAACD and GDP so far have the strongest correlations"
   ]
  },
  {
   "cell_type": "code",
   "execution_count": 30,
   "metadata": {
    "scrolled": true
   },
   "outputs": [
    {
     "data": {
      "text/plain": [
       "<matplotlib.axes._subplots.AxesSubplot at 0x242db74d748>"
      ]
     },
     "execution_count": 30,
     "metadata": {},
     "output_type": "execute_result"
    },
    {
     "data": {
      "image/png": "[encoded data removed]",
      "text/plain": [
       "<Figure size 432x288 with 1 Axes>"
      ]
     },
     "metadata": {
      "needs_background": "light"
     },
     "output_type": "display_data"
    }
   ],
   "source": [
    "sns.regplot(file['PAACD'], file['Total Miles'])"
   ]
  },
  {
   "cell_type": "code",
   "execution_count": 31,
   "metadata": {},
   "outputs": [
    {
     "data": {
      "text/plain": [
       "(0.575168876480251, 0.064139320805266)"
      ]
     },
     "execution_count": 31,
     "metadata": {},
     "output_type": "execute_result"
    }
   ],
   "source": [
    "correlation = st.pearsonr(file['PAACB'], file['Total Miles'])\n",
    "correlation"
   ]
  },
  {
   "cell_type": "markdown",
   "metadata": {},
   "source": [
    "- P value higher than .05 indicating good enoug for business correlation but not for a scientific study"
   ]
  },
  {
   "cell_type": "code",
   "execution_count": 32,
   "metadata": {},
   "outputs": [
    {
     "data": {
      "text/plain": [
       "<matplotlib.axes._subplots.AxesSubplot at 0x242db7c9d88>"
      ]
     },
     "execution_count": 32,
     "metadata": {},
     "output_type": "execute_result"
    },
    {
     "data": {
      "image/png": "[encoded data removed]",
      "text/plain": [
       "<Figure size 432x288 with 1 Axes>"
      ]
     },
     "metadata": {
      "needs_background": "light"
     },
     "output_type": "display_data"
    }
   ],
   "source": [
    "sns.regplot(file['PAACB'], file['Total Miles'])"
   ]
  },
  {
   "cell_type": "code",
   "execution_count": null,
   "metadata": {},
   "outputs": [],
   "source": []
  }
 ],
 "metadata": {
  "kernelspec": {
   "display_name": "Python 3",
   "language": "python",
   "name": "python3"
  },
  "language_info": {
   "codemirror_mode": {
    "name": "ipython",
    "version": 3
   },
   "file_extension": ".py",
   "mimetype": "text/x-python",
   "name": "python",
   "nbconvert_exporter": "python",
   "pygments_lexer": "ipython3",
   "version": "3.7.4"
  }
 },
 "nbformat": 4,
 "nbformat_minor": 4
}
